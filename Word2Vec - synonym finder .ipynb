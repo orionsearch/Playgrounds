{
 "cells": [
  {
   "cell_type": "code",
   "execution_count": 1,
   "metadata": {
    "_cell_guid": "b1076dfc-b9ad-4769-8c92-a6c4dae69d19",
    "_uuid": "8f2839f25d086af736a60e9eeb907d3b93b6e0e5"
   },
   "outputs": [],
   "source": [
    "# This Python 3 environment comes with many helpful analytics libraries installed\n",
    "# It is defined by the kaggle/python docker image: https://github.com/kaggle/docker-python\n",
    "# For example, here's several helpful packages to load in \n",
    "\n",
    "import numpy as np # linear algebra\n",
    "import pandas as pd # data processing, CSV file I/O (e.g. pd.read_csv)\n",
    "\n",
    "# Input data files are available in the \"../input/\" directory.\n",
    "# For example, running this (by clicking run or pressing Shift+Enter) will list the files in the input directory\n",
    "\n",
    "import os"
   ]
  },
  {
   "cell_type": "markdown",
   "metadata": {
    "_uuid": "596898c6b73b5f4b5d59da280aa4b20b10686936"
   },
   "source": [
    "# Training"
   ]
  },
  {
   "cell_type": "code",
   "execution_count": 2,
   "metadata": {
    "_cell_guid": "79c7e3d0-c299-4dcb-8224-4455121ee9b0",
    "_uuid": "d629ff2d2480ee46fbb7e2d37f6b5fab8052498a"
   },
   "outputs": [],
   "source": [
    "import word2vec"
   ]
  },
  {
   "cell_type": "code",
   "execution_count": 3,
   "metadata": {
    "_uuid": "2e8c3a0f1afcee7ee60b031c70d63cc852fbd179"
   },
   "outputs": [
    {
     "name": "stdout",
     "output_type": "stream",
     "text": [
      "Starting training using file ../input/text8\n",
      "Words processed: 17000K     Vocab size: 4399K  \r\n",
      "Vocab size (unigrams + bigrams): 2419827\n",
      "Words in train file: 17005206\n",
      "Words written: 17000K\r"
     ]
    }
   ],
   "source": [
    "word2vec.word2phrase('../input/text8', './text8-phrases', verbose=True)"
   ]
  },
  {
   "cell_type": "code",
   "execution_count": 4,
   "metadata": {
    "_uuid": "d44354242fa728d122c4265215c07a4fd459d71b"
   },
   "outputs": [
    {
     "name": "stdout",
     "output_type": "stream",
     "text": [
      "Starting training using file ./text8-phrases\n",
      "Vocab size: 98331\n",
      "Words in train file: 15857306\n",
      "Alpha: 0.000002  Progress: 100.03%  Words/thread/sec: 284.42k  "
     ]
    }
   ],
   "source": [
    "word2vec.word2vec('./text8-phrases', './text8.bin', size=100, verbose=True)"
   ]
  },
  {
   "cell_type": "code",
   "execution_count": 5,
   "metadata": {
    "_uuid": "bd88864dfeefb370ff02fcf7238befd0d913eb8e"
   },
   "outputs": [
    {
     "name": "stdout",
     "output_type": "stream",
     "text": [
      "Starting training using file ../input/text8\n",
      "Vocab size: 71291\n",
      "Words in train file: 16718843\n",
      "Alpha: 0.000002  Progress: 100.03%  Words/thread/sec: 285.70k  "
     ]
    }
   ],
   "source": [
    "word2vec.word2clusters('../input/text8', './text8-clusters.txt', 100, verbose=True)"
   ]
  },
  {
   "cell_type": "markdown",
   "metadata": {
    "_uuid": "48ae4b899807e56afb50816d71a919d6444c9ad1"
   },
   "source": [
    "# Predictions"
   ]
  },
  {
   "cell_type": "code",
   "execution_count": 6,
   "metadata": {
    "_uuid": "c7517427e8c8f45cefe0e00fa301a21fe3155e8c"
   },
   "outputs": [],
   "source": [
    "model = word2vec.load('./text8.bin')"
   ]
  },
  {
   "cell_type": "code",
   "execution_count": 7,
   "metadata": {
    "_uuid": "06e7a911db78f99aeade4e454db2f94a074da320"
   },
   "outputs": [
    {
     "data": {
      "text/plain": [
       "array(['</s>', 'the', 'of', ..., 'denishawn', 'tamiris', 'dolophine'],\n",
       "      dtype='<U78')"
      ]
     },
     "execution_count": 7,
     "metadata": {},
     "output_type": "execute_result"
    }
   ],
   "source": [
    "model.vocab"
   ]
  },
  {
   "cell_type": "code",
   "execution_count": 8,
   "metadata": {
    "_uuid": "809fbb15f3be2aa5aaa1ae4a32a28009e27b93f5"
   },
   "outputs": [
    {
     "data": {
      "text/plain": [
       "(98331, 100)"
      ]
     },
     "execution_count": 8,
     "metadata": {},
     "output_type": "execute_result"
    }
   ],
   "source": [
    "model.vectors.shape"
   ]
  },
  {
   "cell_type": "code",
   "execution_count": 9,
   "metadata": {
    "_uuid": "aac16f05a1e9b77eb5eeb6fba09f3aa30c130098"
   },
   "outputs": [
    {
     "data": {
      "text/plain": [
       "array([[ 0.14333282,  0.15825513, -0.13715845, ...,  0.05456942,\n",
       "         0.10955409,  0.00693387],\n",
       "       [ 0.09320813, -0.00101641, -0.09684327, ..., -0.11781615,\n",
       "        -0.05910984, -0.03128767],\n",
       "       [ 0.08563672,  0.15385494, -0.16320547, ..., -0.07347279,\n",
       "         0.00401312,  0.03657165],\n",
       "       ...,\n",
       "       [-0.00164984, -0.03217155,  0.01935044, ...,  0.13745227,\n",
       "        -0.30915675,  0.07371354],\n",
       "       [ 0.06741995, -0.12007087,  0.19697894, ...,  0.02800299,\n",
       "        -0.15266375,  0.00574917],\n",
       "       [ 0.15581299, -0.19284689,  0.16768204, ...,  0.12229972,\n",
       "        -0.00077289,  0.0270224 ]])"
      ]
     },
     "execution_count": 9,
     "metadata": {},
     "output_type": "execute_result"
    }
   ],
   "source": [
    "model.vectors"
   ]
  },
  {
   "cell_type": "code",
   "execution_count": 10,
   "metadata": {
    "_uuid": "35add8aa6a540128cbc641570292f82c10f02963"
   },
   "outputs": [
    {
     "data": {
      "text/plain": [
       "[('san_francisco', 0.8975359222006903),\n",
       " ('san_diego', 0.8792963439530999),\n",
       " ('miami', 0.8411955499272228),\n",
       " ('las_vegas', 0.8385793473513703),\n",
       " ('st_louis', 0.8286763128021093),\n",
       " ('seattle', 0.8276947067572857),\n",
       " ('chicago_illinois', 0.8171083839387061),\n",
       " ('dallas', 0.8120056934322685),\n",
       " ('chicago', 0.8099675137510784),\n",
       " ('atlanta', 0.8085995189527424)]"
      ]
     },
     "execution_count": 10,
     "metadata": {},
     "output_type": "execute_result"
    }
   ],
   "source": [
    "indexes, metrics = model.similar('los_angeles')\n",
    "model.generate_response(indexes, metrics).tolist()"
   ]
  }
 ],
 "metadata": {
  "kernelspec": {
   "display_name": "Python 3",
   "language": "python",
   "name": "python3"
  },
  "language_info": {
   "codemirror_mode": {
    "name": "ipython",
    "version": 3
   },
   "file_extension": ".py",
   "mimetype": "text/x-python",
   "name": "python",
   "nbconvert_exporter": "python",
   "pygments_lexer": "ipython3",
   "version": "3.6.6"
  }
 },
 "nbformat": 4,
 "nbformat_minor": 1
}
